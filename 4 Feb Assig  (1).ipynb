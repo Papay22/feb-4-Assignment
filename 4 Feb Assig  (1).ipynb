{
 "cells": [
  {
   "cell_type": "code",
   "execution_count": null,
   "id": "d28995e8-bc53-4a35-80c0-54b4141a5381",
   "metadata": {},
   "outputs": [],
   "source": [
    "1. sorted_list = sorted(list_of_tuples, key=lambda x: x1)\n",
    "print(sorted_list)\n",
    "Output: ('Virat Kohli', 24936), ('Jack Kallis', 25534), ('Ricky Ponting', 27483), ('Sachin Tendulkar', 34357)\n"
   ]
  },
  {
   "cell_type": "markdown",
   "id": "dcda1f59-fee3-4872-9202-6f6071d395bd",
   "metadata": {},
   "source": [
    "2. Using lambda and map functions\n",
    "result = list(map(lambda x: x**2, 1, 2, 3, 4, 5, 6, 7, 8, 9, 10))\n",
    "print(result)\n"
   ]
  },
  {
   "cell_type": "code",
   "execution_count": null,
   "id": "3306d4b9-5d4b-4996-bee4-716e07a58694",
   "metadata": {},
   "outputs": [],
   "source": [
    "3. #Solution\n",
    "list_of_ints = 1, 2, 3, 4, 5, 6, 7, 8, 9, 10\n",
    "tuple_of_strings = tuple(map(lambda x: str(x), list_of_ints))\n",
    "print(tuple_of_strings\n"
   ]
  },
  {
   "cell_type": "code",
   "execution_count": null,
   "id": "b140b38f-7f5b-4923-82d5-20cfa56ac25a",
   "metadata": {},
   "outputs": [],
   "source": [
    "4.Solution 1: Using reduce function\n",
    "from functools import reduce\n",
    "initializing list\n",
    "test_list = 1, 2, 3, 4, 5, 6, 7, 8, 9, 10, 11, 12, 13, 14, 15, 16, 17, 18, 19, 20, 21, 22, 23, 24, 25\n",
    "using reduce to compute product\n",
    "product = reduce((lambda x, y: x * y), test_list)\n",
    "printing product\n",
    "print(\"Product of the list elements : \", product)\n",
    "Solution 2: Using filter function\n",
    "initializing list\n",
    "test_list = 2, 3, 6, 9, 27, 60, 90, 120, 55, 46\n",
    "using filter to filter divisible by 2 and 3 numbers\n",
    "res = list(filter(lambda x: (x % 2 == 0 and x % 3 == 0), test_list))\n",
    "printing resultprint(\"Numbers divisible by 2 and 3 are :\",res)\n",
    "\n"
   ]
  },
  {
   "cell_type": "code",
   "execution_count": null,
   "id": "caa5922f-f875-4eaf-a412-77c4baf6b2cb",
   "metadata": {},
   "outputs": [],
   "source": [
    "5.list_of_strings = 'python', 'php', 'aba', 'radar', 'level'\n",
    "result = list(filter(lambda x: x == \"\".join(reversed(x)), list_of_strings))\n",
    "print(result)Output: 'aba', 'radar', 'level'\n"
   ]
  }
 ],
 "metadata": {
  "kernelspec": {
   "display_name": "Python 3 (ipykernel)",
   "language": "python",
   "name": "python3"
  },
  "language_info": {
   "codemirror_mode": {
    "name": "ipython",
    "version": 3
   },
   "file_extension": ".py",
   "mimetype": "text/x-python",
   "name": "python",
   "nbconvert_exporter": "python",
   "pygments_lexer": "ipython3",
   "version": "3.10.8"
  }
 },
 "nbformat": 4,
 "nbformat_minor": 5
}
